{
 "cells": [
  {
   "cell_type": "code",
   "execution_count": null,
   "metadata": {},
   "outputs": [],
   "source": []
  },
  {
   "cell_type": "markdown",
   "metadata": {},
   "source": [
    "## Part-1 LXML Basics"
   ]
  },
  {
   "cell_type": "code",
   "execution_count": 1,
   "metadata": {},
   "outputs": [],
   "source": [
    "from lxml import etree\n"
   ]
  },
  {
   "cell_type": "code",
   "execution_count": 43,
   "metadata": {},
   "outputs": [
    {
     "name": "stdout",
     "output_type": "stream",
     "text": [
      "<lxml.etree._ElementTree object at 0x000002234B91E048>\n"
     ]
    }
   ],
   "source": [
    "tree = etree.parse(\"web_page.html\")\n",
    "print(tree )"
   ]
  },
  {
   "cell_type": "code",
   "execution_count": 44,
   "metadata": {},
   "outputs": [
    {
     "name": "stdout",
     "output_type": "stream",
     "text": [
      "<html lang=\"en\">\n",
      "\n",
      "<head>\n",
      "    <title>This is the title</title>\n",
      "</head>\n",
      "\n",
      "<body>\n",
      "    <p>Hello World</p>\n",
      "    <ul>\n",
      "        <li id=\"myID\">Web Scraping with Python using Requests, LXML and Splash</li>\n",
      "        <li class=\"myClass\">Created by:\n",
      "            <a href=\"https://twitter.com/AhmedRafik__\">Ahmed Rafik</a>\n",
      "        </li>\n",
      "    </ul>\n",
      "</body>\n",
      "\n",
      "</html>\n",
      "\n"
     ]
    }
   ],
   "source": [
    "print (etree.tostring(tree, pretty_print=True).decode(\"utf-8\"))"
   ]
  },
  {
   "cell_type": "code",
   "execution_count": 51,
   "metadata": {},
   "outputs": [
    {
     "name": "stdout",
     "output_type": "stream",
     "text": [
      "This is the title\n",
      "Hello World\n",
      "---------\n",
      "Web Scraping with Python using Requests, LXML and Splash\n",
      "Created by:\n",
      "            \n",
      "------------\n",
      "Web Scraping with Python using Requests, LXML and Splash\n",
      "Created by: Ahmed Rafik\n"
     ]
    }
   ],
   "source": [
    "title_element = tree.find(\"head/title\")\n",
    "print(title_element.text)\n",
    "\n",
    "paragraph_element = tree.find(\"body/p\")\n",
    "print( paragraph_element.text )\n",
    "\n",
    "\n",
    "list_items = tree.findall(\"body/ul/li\")\n",
    "\n",
    "# list all paragraph\n",
    "print(\"---------\")\n",
    "for li in list_items:\n",
    "    print(li.text)\n",
    "\n",
    "print(\"------------\")\n",
    "for li in list_items:\n",
    "    a = li.find('a')\n",
    "    if a is not None:\n",
    "        print(f\"{li.text.strip()} {a.text}\")\n",
    "    else:\n",
    "        print(li.text)"
   ]
  },
  {
   "cell_type": "code",
   "execution_count": 59,
   "metadata": {},
   "outputs": [
    {
     "name": "stdout",
     "output_type": "stream",
     "text": [
      "This is the title\n",
      "Hello World\n",
      "Web Scraping with Python using Requests, LXML and Splash\n",
      "Created by: Ahmed Rafik \n"
     ]
    }
   ],
   "source": [
    "# method 2: LXML with XPATH\n",
    "\n",
    "tree = etree.parse('web_page.html')\n",
    "\n",
    "title_element = tree.xpath('//title/text()')[0]\n",
    "print(title_element)\n",
    "\n",
    "paragraph_element = tree.xpath('//p/text()')[0]\n",
    "print(paragraph_element)\n",
    "\n",
    "#list all paragraph;\n",
    "list_items = tree.xpath('//li')\n",
    "\n",
    "for li in list_items:\n",
    "    # remove spaces and \\n\n",
    "    # print in strings;\n",
    "    text = ' '.join( map( str.strip, li.xpath(\".//text()\") ) )\n",
    "    print( text)\n",
    "    \n"
   ]
  },
  {
   "cell_type": "code",
   "execution_count": 69,
   "metadata": {},
   "outputs": [
    {
     "name": "stdout",
     "output_type": "stream",
     "text": [
      "This is the title\n",
      "Hello World\n",
      "-------\n",
      "Web Scraping with Python using Requests, LXML and Splash\n",
      "Created by: Ahmed Rafik \n"
     ]
    }
   ],
   "source": [
    "# method 3: LXML with CSS selectors\n",
    "\n",
    "tree = etree.parse('web_page.html')\n",
    "html = tree.getroot()\n",
    "\n",
    "title_element = html.cssselect(\"title\")[0]\n",
    "print(title_element.text)\n",
    "\n",
    "paragraph_element = html.cssselect('p')[0]\n",
    "print(paragraph_element.text)\n",
    "\n",
    "print(\"-------\")\n",
    "list_items = html.cssselect(\"li\")\n",
    "for li in list_items:\n",
    "    a = li.cssselect('a')\n",
    "   \n",
    "    if len(a) == 0:\n",
    "        print(li.text)\n",
    "    else:\n",
    "        print(f\"{li.text.strip()} {a[0].text} \")"
   ]
  },
  {
   "cell_type": "code",
   "execution_count": null,
   "metadata": {},
   "outputs": [],
   "source": []
  },
  {
   "cell_type": "code",
   "execution_count": 37,
   "metadata": {},
   "outputs": [
    {
     "name": "stdout",
     "output_type": "stream",
     "text": [
      "Web Scraping with Python using Requests, LXML and Splash\n",
      "Created by: Ahmed Rafik\n"
     ]
    }
   ],
   "source": [
    "# \n",
    "for li in list_items:\n",
    "    a = li.find(\"a\")\n",
    "    if a is not None:\n",
    "        print(f\"{li.text.strip()} {a.text}\")\n",
    "    else:\n",
    "        print(f\"{li.text}\" )"
   ]
  },
  {
   "cell_type": "markdown",
   "metadata": {},
   "source": [
    "## Part-2 XPATH and CSS Selectors"
   ]
  },
  {
   "cell_type": "markdown",
   "metadata": {},
   "source": [
    "XPATH: XML file<br>\n",
    "\n",
    "https://scrapinghub.github.io/xpath-playground/ <br>\n",
    "\n",
    "CSS Selectors: HTML <br>\n",
    "\n",
    "https://try.jsoup.org/"
   ]
  },
  {
   "cell_type": "markdown",
   "metadata": {},
   "source": [
    "**Parse data from the web page**"
   ]
  },
  {
   "cell_type": "code",
   "execution_count": 27,
   "metadata": {},
   "outputs": [
    {
     "data": {
      "text/html": [
       "<div>\n",
       "<style scoped>\n",
       "    .dataframe tbody tr th:only-of-type {\n",
       "        vertical-align: middle;\n",
       "    }\n",
       "\n",
       "    .dataframe tbody tr th {\n",
       "        vertical-align: top;\n",
       "    }\n",
       "\n",
       "    .dataframe thead th {\n",
       "        text-align: right;\n",
       "    }\n",
       "</style>\n",
       "<table border=\"1\" class=\"dataframe\">\n",
       "  <thead>\n",
       "    <tr style=\"text-align: right;\">\n",
       "      <th></th>\n",
       "      <th>0</th>\n",
       "      <th>1</th>\n",
       "    </tr>\n",
       "  </thead>\n",
       "  <tbody>\n",
       "    <tr>\n",
       "      <th>0</th>\n",
       "      <td>UPC</td>\n",
       "      <td>a897fe39b1053632</td>\n",
       "    </tr>\n",
       "    <tr>\n",
       "      <th>1</th>\n",
       "      <td>Product Type</td>\n",
       "      <td>Books</td>\n",
       "    </tr>\n",
       "    <tr>\n",
       "      <th>2</th>\n",
       "      <td>Price (excl. tax)</td>\n",
       "      <td>£51.77</td>\n",
       "    </tr>\n",
       "    <tr>\n",
       "      <th>3</th>\n",
       "      <td>Price (incl. tax)</td>\n",
       "      <td>£51.77</td>\n",
       "    </tr>\n",
       "    <tr>\n",
       "      <th>4</th>\n",
       "      <td>Tax</td>\n",
       "      <td>£0.00</td>\n",
       "    </tr>\n",
       "    <tr>\n",
       "      <th>5</th>\n",
       "      <td>Availability</td>\n",
       "      <td>In stock (22 available)</td>\n",
       "    </tr>\n",
       "    <tr>\n",
       "      <th>6</th>\n",
       "      <td>Number of reviews</td>\n",
       "      <td>0</td>\n",
       "    </tr>\n",
       "  </tbody>\n",
       "</table>\n",
       "</div>"
      ],
      "text/plain": [
       "                   0                        1\n",
       "0                UPC         a897fe39b1053632\n",
       "1       Product Type                    Books\n",
       "2  Price (excl. tax)                   £51.77\n",
       "3  Price (incl. tax)                   £51.77\n",
       "4                Tax                    £0.00\n",
       "5       Availability  In stock (22 available)\n",
       "6  Number of reviews                        0"
      ]
     },
     "execution_count": 27,
     "metadata": {},
     "output_type": "execute_result"
    }
   ],
   "source": [
    "import pandas as pd\n",
    "\n",
    "df = pd.read_html(\"http://books.toscrape.com/catalogue/a-light-in-the-attic_1000/index.html\")\n",
    "df[0]"
   ]
  },
  {
   "cell_type": "code",
   "execution_count": 10,
   "metadata": {},
   "outputs": [],
   "source": [
    "import requests\n",
    "from lxml import html\n",
    "import re\n"
   ]
  },
  {
   "cell_type": "code",
   "execution_count": 30,
   "metadata": {},
   "outputs": [
    {
     "data": {
      "text/plain": [
       "<Response [200]>"
      ]
     },
     "execution_count": 30,
     "metadata": {},
     "output_type": "execute_result"
    }
   ],
   "source": [
    "import requests\n",
    "\n",
    "bookurl =\"http://books.toscrape.com/catalogue/a-light-in-the-attic_1000/index.html\"\n",
    "resp = requests.get(url=bookurl, headers={\n",
    "        'User-Agent': 'Mozilla/5.0 (Windows NT 10.0; Win64; x64) AppleWebKit/537.36 (KHTML, like Gecko) Chrome/73.0.3683.103 Safari/537.36'\n",
    "    })\n",
    "resp"
   ]
  },
  {
   "cell_type": "code",
   "execution_count": 14,
   "metadata": {},
   "outputs": [
    {
     "name": "stdout",
     "output_type": "stream",
     "text": [
      "<div class=\"col-sm-6 product_main\">\n",
      "            \n",
      "            \n",
      "            <h1>A Light in the Attic</h1>\n",
      "\n",
      "            \n",
      "                \n",
      "\n",
      "\n",
      "\n",
      "\n",
      "\n",
      "\n",
      "    \n",
      "        <p class=\"price_color\">&#194;&#163;51.77</p>\n",
      "    \n",
      "\n",
      "<p class=\"instock availability\">\n",
      "    <i class=\"icon-ok\"/>\n",
      "    \n",
      "        In stock (22 available)\n",
      "    \n",
      "</p>\n",
      "\n",
      "            \n",
      "\n",
      "            \n",
      "                \n",
      "\n",
      "\n",
      "\n",
      "    <p class=\"star-rating Three\">\n",
      "        <i class=\"icon-star\"/>\n",
      "        <i class=\"icon-star\"/>\n",
      "        <i class=\"icon-star\"/>\n",
      "        <i class=\"icon-star\"/>\n",
      "        <i class=\"icon-star\"/>\n",
      "\n",
      "        <!-- <small><a href=\"/catalogue/a-light-in-the-attic_1000/reviews/\">\n",
      "        \n",
      "                \n",
      "                    0 customer reviews\n",
      "                \n",
      "        </a></small>\n",
      "         -->&#160;\n",
      "\n",
      "\n",
      "<!-- \n",
      "    <a id=\"write_review\" href=\"/catalogue/a-light-in-the-attic_1000/reviews/add/#addreview\" class=\"btn btn-success btn-sm\">\n",
      "        Write a review\n",
      "    </a>\n",
      "\n",
      " --></p>\n",
      "\n",
      "            \n",
      "\n",
      "            <hr/>\n",
      "\n",
      "            <div class=\"alert alert-warning\" role=\"alert\"><strong>Warning!</strong> This is a demo website for web scraping purposes. Prices and ratings here were randomly assigned and have no real meaning.</div>\n",
      "\n",
      "\n",
      "            \n",
      "                \n",
      "\n",
      "\n",
      "\n",
      "\n",
      "\n",
      "\n",
      "            \n",
      "        </div>\n",
      "\n"
     ]
    }
   ],
   "source": [
    "tree = html.fromstring(html=resp.text)\n",
    "product_main = tree.xpath(\"//div[contains(@class, 'product_main')]\")[0]\n",
    "print(etree.tostring(product_main, pretty_print=True).decode(\"utf-8\"))"
   ]
  },
  {
   "cell_type": "code",
   "execution_count": 17,
   "metadata": {},
   "outputs": [
    {
     "data": {
      "text/plain": [
       "'A Light in the Attic'"
      ]
     },
     "execution_count": 17,
     "metadata": {},
     "output_type": "execute_result"
    }
   ],
   "source": [
    "title = product_main.xpath(\".//h1/text()\")[0]\n",
    "title"
   ]
  },
  {
   "cell_type": "code",
   "execution_count": 18,
   "metadata": {},
   "outputs": [],
   "source": [
    "price = product_main.xpath(\".//p[1]/text()\")[0]\n"
   ]
  },
  {
   "cell_type": "code",
   "execution_count": 22,
   "metadata": {},
   "outputs": [
    {
     "data": {
      "text/plain": [
       "'In stock (22 available)'"
      ]
     },
     "execution_count": 22,
     "metadata": {},
     "output_type": "execute_result"
    }
   ],
   "source": [
    "availability = product_main.xpath(\".//p[2]/text()\")[1].strip()\n",
    "availability\n"
   ]
  },
  {
   "cell_type": "code",
   "execution_count": 23,
   "metadata": {},
   "outputs": [
    {
     "data": {
      "text/plain": [
       "'22'"
      ]
     },
     "execution_count": 23,
     "metadata": {},
     "output_type": "execute_result"
    }
   ],
   "source": [
    "in_stock = ''.join(list(filter(lambda x: x.isdigit(), availability)))\n",
    "in_stock"
   ]
  },
  {
   "cell_type": "code",
   "execution_count": 21,
   "metadata": {},
   "outputs": [
    {
     "data": {
      "text/plain": [
       "\"It's hard to imagine a world without A Light in the Attic. This now-classic collection of poetry and drawings from Shel Silverstein celebrates its 20th anniversary with this special edition. Silverstein's humorous and creative verse can amuse the dowdiest of readers. Lemon-faced adults and fidgety kids sit still and read these rhythmic words and laugh and smile and love th It's hard to imagine a world without A Light in the Attic. This now-classic collection of poetry and drawings from Shel Silverstein celebrates its 20th anniversary with this special edition. Silverstein's humorous and creative verse can amuse the dowdiest of readers. Lemon-faced adults and fidgety kids sit still and read these rhythmic words and laugh and smile and love that Silverstein. Need proof of his genius? RockabyeRockabye baby, in the treetopDon't you know a treetopIs no safe place to rock?And who put you up there,And your cradle, too?Baby, I think someone down here'sGot it in for you. Shel, you never sounded so good. ...more\""
      ]
     },
     "execution_count": 21,
     "metadata": {},
     "output_type": "execute_result"
    }
   ],
   "source": [
    "description = tree.xpath(\n",
    "    \"//div[@id='product_description']/following-sibling::p/text()\")[0]\n",
    "description"
   ]
  },
  {
   "cell_type": "code",
   "execution_count": 25,
   "metadata": {},
   "outputs": [
    {
     "data": {
      "text/plain": [
       "{'title': 'A Light in the Attic',\n",
       " 'price': 'Â£51.77',\n",
       " 'in_stock': '22',\n",
       " 'description': \"It's hard to imagine a world without A Light in the Attic. This now-classic collection of poetry and drawings from Shel Silverstein celebrates its 20th anniversary with this special edition. Silverstein's humorous and creative verse can amuse the dowdiest of readers. Lemon-faced adults and fidgety kids sit still and read these rhythmic words and laugh and smile and love th It's hard to imagine a world without A Light in the Attic. This now-classic collection of poetry and drawings from Shel Silverstein celebrates its 20th anniversary with this special edition. Silverstein's humorous and creative verse can amuse the dowdiest of readers. Lemon-faced adults and fidgety kids sit still and read these rhythmic words and laugh and smile and love that Silverstein. Need proof of his genius? RockabyeRockabye baby, in the treetopDon't you know a treetopIs no safe place to rock?And who put you up there,And your cradle, too?Baby, I think someone down here'sGot it in for you. Shel, you never sounded so good. ...more\"}"
      ]
     },
     "execution_count": 25,
     "metadata": {},
     "output_type": "execute_result"
    }
   ],
   "source": [
    "book_information = {\n",
    "        'title': title,\n",
    "        'price': price,\n",
    "        'in_stock': in_stock,\n",
    "        'description': description\n",
    "    }\n",
    "book_information"
   ]
  },
  {
   "cell_type": "code",
   "execution_count": 32,
   "metadata": {},
   "outputs": [
    {
     "data": {
      "text/plain": [
       "<Response [200]>"
      ]
     },
     "execution_count": 32,
     "metadata": {},
     "output_type": "execute_result"
    }
   ],
   "source": [
    "\n",
    "web_page = \"https://www.ebay.com/trending\"\n",
    "#Response object\n",
    "resp = requests.get(url= web_page, headers={\n",
    "    'User-Agent': 'Mozilla/5.0 (Windows NT 10.0; Win64; x64) AppleWebKit/537.36 (KHTML, like Gecko) Chrome/73.0.3683.103 Safari/537.36'\n",
    "})\n",
    "\n",
    "resp"
   ]
  },
  {
   "cell_type": "code",
   "execution_count": 33,
   "metadata": {},
   "outputs": [
    {
     "data": {
      "text/plain": [
       "[<Element div at 0x19be80a5a48>,\n",
       " <Element div at 0x19be8015d68>,\n",
       " <Element div at 0x19be8015b88>,\n",
       " <Element div at 0x19be8015db8>,\n",
       " <Element div at 0x19be8015c78>,\n",
       " <Element div at 0x19be8015a98>,\n",
       " <Element div at 0x19be8015408>,\n",
       " <Element div at 0x19be8015e08>,\n",
       " <Element div at 0x19be8015e58>,\n",
       " <Element div at 0x19be8015ea8>]"
      ]
     },
     "execution_count": 33,
     "metadata": {},
     "output_type": "execute_result"
    }
   ],
   "source": [
    "#Element Tree object\n",
    "tree = html.fromstring(html=resp.text)\n",
    "\n",
    "#Get trending items\n",
    "trending_items = tree.xpath(\"//div[contains(@id, 'topic')]/div[@class='topic-container']\")\n",
    "\n",
    "trending_items"
   ]
  },
  {
   "cell_type": "code",
   "execution_count": 36,
   "metadata": {},
   "outputs": [],
   "source": [
    "\n",
    "all_products = []\n",
    "\n",
    "for trending_item in trending_items:\n",
    "    item = {\n",
    "        'name': trending_item.xpath(\".//h2[@class='title']/a/text()\")[0],\n",
    "        'url': trending_item.xpath(\".//h2[@class='title']/a/@href\")[0],\n",
    "        'info': trending_item.xpath(\".//div[@class='info']/p/text()\")[0],\n",
    "        'searches': trending_item.xpath(\".//div[@class='info']/div[@class='graph']/div[@class='stats']/div/strong/text()\")[0]\n",
    "    }\n",
    "    all_products.append(item)"
   ]
  },
  {
   "cell_type": "code",
   "execution_count": 38,
   "metadata": {},
   "outputs": [
    {
     "data": {
      "text/plain": [
       "[{'name': 'Mahomes Magic Crunch',\n",
       "  'url': 'https://www.ebay.com/sch/i.html?_nkw=mahomes+magic+crunch&_trksid=p2245348.m3768.l6570&_trkparms=topicId%3D7749&_trksid=p2245348.m3768.l6569&_trkparms=topicId%3D7749',\n",
       "  'info': 'The reigning NFL MVP, Kansas City Chiefs quarterback Patrick Mahomes, just got his face on a cereal box. And not just any cereal, but a custom one, created just for him. Will he eat it from a super bowl?',\n",
       "  'searches': '7950'},\n",
       " {'name': \"Hot Wheels '55 Chevy Gasser\",\n",
       "  'url': 'https://www.ebay.com/sch/180506/i.html?_nkw=hot+wheels+rlc+gasser&_trksid=p2245348.m3769.l6569&_trkparms=topicId%3D7747',\n",
       "  'info': 'Hot, indeed. The black and green FLYNTGR is the latest ‘55 Chevy Bel Air Gasser released exclusively for members of the Hot Wheels Red Line Club.',\n",
       "  'searches': '5732'},\n",
       " {'name': 'Starter Jacket',\n",
       "  'url': 'https://www.ebay.com/sch/i.html?_nkw=starter+jacket&_trksid=p2245348.m3770.l6569&_trkparms=topicId%3D7737',\n",
       "  'info': \"Platform sandals, scrunchies, chokers, flannel shirts...all styles from the '90s, and right now. If you can find a vintage Starter jacket, ideally in a neon color combo, you’ll completely nail the '90s trend.\",\n",
       "  'searches': '7429'},\n",
       " {'name': 'Finalmouse Cape Town',\n",
       "  'url': 'https://www.ebay.com/sch/23160/i.html?_nkw=finalmouse+cape+town&_trksid=p2245348.m3771.l6569&_trkparms=topicId%3D7736',\n",
       "  'info': 'Ultralight mice and eSports athletes go hand in hand, literally. Many manufacturers are getting into the game, including Glorious, Xtrfy, and Finalmouse, whose latest introduction is the 47 gram Cape Town.',\n",
       "  'searches': '41445'},\n",
       " {'name': 'Nike SB x Parra',\n",
       "  'url': 'https://www.ebay.com/sch/i.html?_nkw=nike+sb+parra&_trksid=p2245348.m3772.l6569&_trkparms=topicId%3D7722',\n",
       "  'info': 'The Dutch artist’s new Nike collaboration includes the Parra x Nike SB Dunk Low and Blazer GT, as well as a polo shirt, tee, skate pants, hat, and socks, many with stacked pink, red, and blue Swooshes.',\n",
       "  'searches': '1954'},\n",
       " {'name': 'Once Upon a Time in Hollywood',\n",
       "  'url': 'https://www.ebay.com/sch/i.html?_nkw=once+upon+a+time+in+hollywood&_trksid=p2245348.m3773.l6569&_trkparms=topicId%3D7721',\n",
       "  'info': 'Quentin Tarantino’s ninth film, starring Leonardo DiCaprio as a fading Western star trying to keep his career alive and Brad Pitt as his stuntman best friend, opened strong ($40M), and long (161 minutes).',\n",
       "  'searches': '11463'},\n",
       " {'name': 'Alita: Battle Angel Steelbook',\n",
       "  'url': 'https://www.ebay.com/sch/i.html?_nkw=alita+steelbook&_trksid=p2245348.m3774.l6569&_trkparms=topicId%3D7713',\n",
       "  'info': 'Robert Rodriguez’s cyberpunk film about the mysterious cyborg Alita is out in Steelbook form. The release includes motion comics that fill in Alita’s backstory, and a featurette with Yukito Kishiro.',\n",
       "  'searches': '14625'},\n",
       " {'name': 'Thor Jane Foster',\n",
       "  'url': 'https://www.ebay.com/sch/i.html?_nkw=thor+1+jane+foster&_trksid=p2245348.m3775.l6569&_trkparms=topicId%3D7699',\n",
       "  'info': 'SDCC had a big reveal about the fourth Thor movie. Inspired by “The Mighty Thor” comic, director Taika Waititi announced that the next actor to wield the hammer will be Natalie Portman as Jane Foster/Thor.',\n",
       "  'searches': '16340'},\n",
       " {'name': 'Mariano Rivera',\n",
       "  'url': 'https://www.ebay.com/sch/i.html?_nkw=mariano+rivera&_trksid=p2245348.m3776.l6569&_trkparms=topicId%3D7700',\n",
       "  'info': 'Enter Sandman, into the Baseball Hall of Fame. The beloved former Yankees pitcher was inducted at Cooperstown, sparking searches for Rivera memorabilia and collectibles, including his 1992 Bowman Rookie Card.',\n",
       "  'searches': '10739'},\n",
       " {'name': 'Apollo 11 Anniversary',\n",
       "  'url': 'https://www.ebay.com/sch/i.html?_nkw=apollo+11+50th+anniversary&_trksid=p2245348.m3777.l6569&_trkparms=topicId%3D7688',\n",
       "  'info': 'Fifty years ago we put a man on the moon. All around the world people are celebrating the achievement with commemorative coins, stamps, shirts, hats, and more.',\n",
       "  'searches': '26579'}]"
      ]
     },
     "execution_count": 38,
     "metadata": {},
     "output_type": "execute_result"
    }
   ],
   "source": [
    "all_products"
   ]
  },
  {
   "cell_type": "code",
   "execution_count": null,
   "metadata": {},
   "outputs": [],
   "source": []
  }
 ],
 "metadata": {
  "kernelspec": {
   "display_name": "Python 3",
   "language": "python",
   "name": "python3"
  },
  "language_info": {
   "codemirror_mode": {
    "name": "ipython",
    "version": 3
   },
   "file_extension": ".py",
   "mimetype": "text/x-python",
   "name": "python",
   "nbconvert_exporter": "python",
   "pygments_lexer": "ipython3",
   "version": "3.7.1"
  }
 },
 "nbformat": 4,
 "nbformat_minor": 2
}
