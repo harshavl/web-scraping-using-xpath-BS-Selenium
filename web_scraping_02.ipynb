{
 "cells": [
  {
   "cell_type": "code",
   "execution_count": null,
   "metadata": {},
   "outputs": [],
   "source": []
  },
  {
   "cell_type": "code",
   "execution_count": 27,
   "metadata": {},
   "outputs": [],
   "source": [
    "import requests\n",
    "from lxml import html"
   ]
  },
  {
   "cell_type": "code",
   "execution_count": 29,
   "metadata": {},
   "outputs": [
    {
     "data": {
      "text/plain": [
       "<Response [200]>"
      ]
     },
     "execution_count": 29,
     "metadata": {},
     "output_type": "execute_result"
    }
   ],
   "source": [
    "web_page = \"https://coinmarketcap.com/\"\n",
    "\n",
    "resp = requests.get( web_page, headers = {\n",
    "    'user-agent': 'Mozilla/5.0 (Windows NT 10.0; Win64; x64) AppleWebKit/537.36 (KHTML, like Gecko) Chrome/75.0.3770.142 Safari/537.36'\n",
    "} )\n",
    "\n",
    "resp"
   ]
  },
  {
   "cell_type": "code",
   "execution_count": 35,
   "metadata": {},
   "outputs": [
    {
     "data": {
      "text/plain": [
       "[{'name': 'Bitcoin',\n",
       "  'marketcap': '2.17894989776e+11',\n",
       "  'price': '12199.6721732',\n",
       "  'change(24h)': '4.23297'},\n",
       " {'name': 'Ethereum',\n",
       "  'marketcap': '25136110459.0',\n",
       "  'price': '234.466167464',\n",
       "  'change(24h)': '1.9222'},\n",
       " {'name': 'XRP',\n",
       "  'marketcap': '13819689085.8',\n",
       "  'price': '0.322342807204',\n",
       "  'change(24h)': '-0.0212043'}]"
      ]
     },
     "execution_count": 35,
     "metadata": {},
     "output_type": "execute_result"
    }
   ],
   "source": [
    "tree = html.fromstring(html=resp.content)\n",
    "\n",
    "currencies = tree.xpath(\"//table[@id='currencies']/tbody/tr\")\n",
    "\n",
    "all_currency =  []\n",
    "\n",
    "for currency in currencies:\n",
    "    c = {\n",
    "        'name': currency.xpath(\".//td[contains( @class, 'currency-name')]/a/text()\")[0],\n",
    "        'marketcap': currency.xpath(\".//td[contains( @class, 'market-cap')]/@data-usd\")[0],\n",
    "        'price' : currency.xpath(\".//td[4]/a[@class='price']/@data-usd\")[0],\n",
    "        'change(24h)': currency.xpath(\".//td[contains(@class, 'percent-change')]/@data-percentusd\")[0]\n",
    "    }\n",
    "    all_currency.append(c)\n",
    "    \n",
    "all_currency[:3]"
   ]
  },
  {
   "cell_type": "code",
   "execution_count": 45,
   "metadata": {},
   "outputs": [],
   "source": [
    "# scapring multiple pages\n",
    "\n",
    "from urllib.parse import urljoin\n",
    "\n",
    "def get(list_elements):\n",
    "    try:\n",
    "        return list_elements.pop(0)\n",
    "    except:\n",
    "        return ''\n",
    "\n",
    "\n",
    "all_currenceis = []\n"
   ]
  },
  {
   "cell_type": "code",
   "execution_count": 46,
   "metadata": {},
   "outputs": [],
   "source": [
    "\n",
    "def scrape(url):\n",
    "    resp = requests.get(url=url, headers={\n",
    "        'User-Agent': 'Mozilla/5.0 (Windows NT 10.0; Win64; x64) AppleWebKit/537.36 (KHTML, like Gecko) Chrome/73.0.3683.103 Safari/537.36'\n",
    "    })\n",
    " \n",
    "    tree = html.fromstring(html=resp.content)\n",
    " \n",
    "    currencies = tree.xpath(\"//table[@id='currencies']/tbody/tr\")\n",
    "    for currency in currencies:\n",
    "        c = {\n",
    "            \"_id\": int(get(currency.xpath(\".//td[1]/text()\"))),\n",
    "            'name': get(currency.xpath(\".//td[contains(@class, 'currency-name')]/a/text()\")),\n",
    "            'market cap': get(currency.xpath(\".//td[contains(@class, 'market-cap')]/@data-usd\")),\n",
    "            'price': get(currency.xpath(\".//td[4]/a[@class='price']/@data-usd\")),\n",
    "            'change(24h)': get(currency.xpath(\".//td[contains(@class, 'percent-change')]/@data-percentusd\"))\n",
    "        }\n",
    " \n",
    "        all_currenceis.append(c)\n",
    "    \n",
    "    next_page = tree.xpath(\"//ul[contains(@class, 'bottom-paginator')]/li/a[contains(text(), 'Next')]/@href\")\n",
    " \n",
    "    if len(next_page) != 0:\n",
    "        next_page_url = urljoin(base=url, url=next_page[0])\n",
    "        scrape(url=next_page_url)"
   ]
  },
  {
   "cell_type": "code",
   "execution_count": 47,
   "metadata": {},
   "outputs": [],
   "source": [
    "scrape(url=\"https://coinmarketcap.com\")"
   ]
  },
  {
   "cell_type": "code",
   "execution_count": 49,
   "metadata": {},
   "outputs": [
    {
     "data": {
      "text/plain": [
       "[{'_id': 1,\n",
       "  'name': 'Bitcoin',\n",
       "  'market cap': '2.10868810294e+11',\n",
       "  'price': '11806.1528333',\n",
       "  'change(24h)': '0.743107'},\n",
       " {'_id': 2,\n",
       "  'name': 'Ethereum',\n",
       "  'market cap': '24783346505.8',\n",
       "  'price': '231.172455837',\n",
       "  'change(24h)': '-0.927494'}]"
      ]
     },
     "execution_count": 49,
     "metadata": {},
     "output_type": "execute_result"
    }
   ],
   "source": [
    "all_currenceis[:2]"
   ]
  },
  {
   "cell_type": "code",
   "execution_count": null,
   "metadata": {},
   "outputs": [],
   "source": []
  },
  {
   "cell_type": "code",
   "execution_count": 53,
   "metadata": {},
   "outputs": [],
   "source": [
    "import requests\n",
    "from lxml import html\n",
    "from urllib.parse import urljoin\n",
    "\n",
    "top_movies = []\n",
    "\n",
    "resp = requests.get(url='https://www.imdb.com/search/title?genres=drama&groups=top_250&sort=user_rating,desc', headers={\n",
    "    'User-Agent': 'Mozilla/5.0 (Windows NT 10.0; Win64; x64) AppleWebKit/537.36 (KHTML, like Gecko) Chrome/74.0.3729.131 Safari/537.36'\n",
    "})\n",
    "\n",
    "tree = html.fromstring(html=resp.text)\n",
    "movies = tree.xpath(\"//div[@class='lister-item-content']\")"
   ]
  },
  {
   "cell_type": "code",
   "execution_count": 54,
   "metadata": {},
   "outputs": [
    {
     "name": "stdout",
     "output_type": "stream",
     "text": [
      "[{'title': 'The Shawshank Redemption', 'year of release': '(1994)', 'duration': '142 min', 'rating': '9.3'}, {'title': 'The Godfather', 'year of release': '(1972)', 'duration': '175 min', 'rating': '9.2'}]\n"
     ]
    }
   ],
   "source": [
    "for movie in movies:\n",
    "    m = {\n",
    "        'title': movie.xpath(\".//h3/a/text()\")[0],\n",
    "        'year of release': movie.xpath(\".//h3/span[contains(@class, 'lister-item-year')]/text()\")[0],\n",
    "        'duration': movie.xpath(\".//p/span[@class='runtime']/text()\")[0],\n",
    "        'rating': movie.xpath(\".//div[@class='ratings-bar']/div[@name='ir']/@data-value\")[0]\n",
    "    }\n",
    "    top_movies.append(m)\n",
    "    \n",
    "print(top_movies[:2])"
   ]
  },
  {
   "cell_type": "code",
   "execution_count": 55,
   "metadata": {},
   "outputs": [],
   "source": [
    "# with recursion\n",
    "\n",
    "top_movies = []\n",
    "\n",
    "\n",
    "def scrape(pageURL):\n",
    "    resp = requests.get(url=pageURL, headers={\n",
    "        'User-Agent': 'Mozilla/5.0 (Windows NT 10.0; Win64; x64) AppleWebKit/537.36 (KHTML, like Gecko) Chrome/74.0.3729.131 Safari/537.36'\n",
    "    })\n",
    "\n",
    "    tree = html.fromstring(html=resp.text)\n",
    "    movies = tree.xpath(\"//div[@class='lister-item-content']\")\n",
    "\n",
    "    for movie in movies:\n",
    "        m = {\n",
    "            'title': movie.xpath(\".//h3/a/text()\")[0],\n",
    "            'year of release': movie.xpath(\".//h3/span[contains(@class, 'lister-item-year')]/text()\")[0],\n",
    "            'duration': movie.xpath(\".//p/span[@class='runtime']/text()\")[0],\n",
    "            'rating': movie.xpath(\".//div[@class='ratings-bar']/div[@name='ir']/@data-value\")[0]\n",
    "        }\n",
    "        top_movies.append(m)\n",
    "\n",
    "    next_page = tree.xpath(\"//div[@class='desc']/a[contains(text(), 'Next')]/@href\")\n",
    "\n",
    "    if len(next_page) != 0:\n",
    "        scrape(pageURL=urljoin(base=pageURL, url=next_page[0]))\n",
    "    else:\n",
    "        return"
   ]
  },
  {
   "cell_type": "code",
   "execution_count": 57,
   "metadata": {},
   "outputs": [
    {
     "name": "stdout",
     "output_type": "stream",
     "text": [
      "[{'title': 'The Shawshank Redemption', 'year of release': '(1994)', 'duration': '142 min', 'rating': '9.3'}, {'title': 'The Godfather', 'year of release': '(1972)', 'duration': '175 min', 'rating': '9.2'}]\n"
     ]
    }
   ],
   "source": [
    "scrape(pageURL='https://www.imdb.com/search/title?genres=drama&groups=top_250&sort=user_rating,desc')\n",
    "print(top_movies[:2])"
   ]
  },
  {
   "cell_type": "code",
   "execution_count": null,
   "metadata": {},
   "outputs": [],
   "source": []
  }
 ],
 "metadata": {
  "kernelspec": {
   "display_name": "Python 3",
   "language": "python",
   "name": "python3"
  },
  "language_info": {
   "codemirror_mode": {
    "name": "ipython",
    "version": 3
   },
   "file_extension": ".py",
   "mimetype": "text/x-python",
   "name": "python",
   "nbconvert_exporter": "python",
   "pygments_lexer": "ipython3",
   "version": "3.7.1"
  }
 },
 "nbformat": 4,
 "nbformat_minor": 2
}
