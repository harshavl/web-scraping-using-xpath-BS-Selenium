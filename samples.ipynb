{
 "cells": [
  {
   "cell_type": "code",
   "execution_count": null,
   "metadata": {},
   "outputs": [],
   "source": []
  },
  {
   "cell_type": "code",
   "execution_count": 1,
   "metadata": {},
   "outputs": [],
   "source": [
    "import requests\n",
    "import re\n",
    "from bs4 import BeautifulSoup"
   ]
  },
  {
   "cell_type": "code",
   "execution_count": 27,
   "metadata": {},
   "outputs": [],
   "source": [
    "articles = []\n",
    "\n",
    "url = 'https://news.ycombinator.com/news'\n",
    "\n",
    "r = requests.get(url)\n",
    "html_soup = BeautifulSoup(r.text, 'html.parser')"
   ]
  },
  {
   "cell_type": "code",
   "execution_count": 29,
   "metadata": {},
   "outputs": [
    {
     "data": {
      "text/plain": [
       "[{'link': 'https://www.quora.com/Experienced-programmers-and-computer-scientists-what-are-some-really-old-or-even-nearly-forgotten-books-you-think-every-new-programmer-should-read/answer/Alan-Kay-11?share=1',\n",
       "  'title': \"Alan Kay's answer to 'what are some forgotten books programmers should read'\",\n",
       "  'score': '195 points',\n",
       "  'comments': '44 comments'},\n",
       " {'link': 'https://www.nytimes.com/2019/08/08/style/linkedin-social-media.html',\n",
       "  'title': 'Why Aren’t We Talking About LinkedIn?',\n",
       "  'score': '41 points',\n",
       "  'comments': '39 comments'}]"
      ]
     },
     "execution_count": 29,
     "metadata": {},
     "output_type": "execute_result"
    }
   ],
   "source": [
    "for item in html_soup.find_all('tr', class_=\"athing\"):\n",
    "    #print(item)\n",
    "    \n",
    "    item_a = item.find('a', class_=\"storylink\")\n",
    "    item_link = item_a.get('href') if item_a else None\n",
    "    \n",
    "    item_text = item_a.get_text(strip=True) if item_a else None\n",
    "    next_row = item.find_next_sibling('tr')\n",
    "    item_score = next_row.find('span', class_=\"score\")\n",
    "    item_score = item_score.get_text(strip=True) if item_score else '0 points'\n",
    "    \n",
    "    item_comments = next_row.find('a', string=re.compile('\\d+(\\s)comment(s?)')) \n",
    "    #repalce non-breaking space\n",
    "    item_comments = item_comments.get_text(strip=True).replace('\\xa0', ' ') if item_comments else '0 comments'\n",
    "    \n",
    "    articles.append( {\n",
    "        'link' : item_link,\n",
    "        'title' : item_text,\n",
    "        'score' : item_score,\n",
    "        'comments' : item_comments\n",
    "    })\n",
    "    \n",
    "\n",
    "    \n",
    "articles[:2]"
   ]
  },
  {
   "cell_type": "markdown",
   "metadata": {},
   "source": [
    "## scrape from json"
   ]
  },
  {
   "cell_type": "code",
   "execution_count": null,
   "metadata": {},
   "outputs": [],
   "source": [
    "articles = []\n",
    "\n",
    "url = 'https://hacker-news.firebaseio.com/v0'\n",
    "\n",
    "top_stories = requests.get(url + '/topstories.json').json()\n",
    "\n",
    "for story_id in top_stories:\n",
    "    story_url = url + '/item/{}.json'.format(story_id)\n",
    "    print('Fetching:', story_url)\n",
    "    r = requests.get(story_url)\n",
    "    story_dict = r.json()\n",
    "    articles.append(story_dict)\n",
    "    \n",
    "for i,article in enumerate(articles):\n",
    "    if i is 3:\n",
    "        break\n",
    "    print(article)"
   ]
  },
  {
   "cell_type": "markdown",
   "metadata": {},
   "source": [
    "## Scrape data from multiple pages"
   ]
  },
  {
   "cell_type": "code",
   "execution_count": 2,
   "metadata": {},
   "outputs": [],
   "source": [
    "import requests\n",
    "import dataset\n",
    "from bs4 import BeautifulSoup\n",
    "from urllib.parse import urljoin, urlparse"
   ]
  },
  {
   "cell_type": "code",
   "execution_count": 17,
   "metadata": {},
   "outputs": [],
   "source": [
    "\n",
    "authors_seen = set()\n",
    "data = []\n",
    "base_url = 'http://quotes.toscrape.com/'\n",
    "\n",
    "def clean_url(url):\n",
    "    # Clean '/author/Steve-Martin' to 'Steve-Martin'\n",
    "    # Use urljoin to make an absolute URL\n",
    "    url = urljoin(base_url, url)\n",
    "    # Use urlparse to get out the path part\n",
    "    path = urlparse(url).path\n",
    "    # Now split the path by '/' and get the second part\n",
    "    # E.g. '/author/Steve-Martin' -> ['', 'author', 'Steve-Martin']\n",
    "    return path.split('/')[2]"
   ]
  },
  {
   "cell_type": "code",
   "execution_count": 18,
   "metadata": {},
   "outputs": [],
   "source": [
    "\n",
    "\n",
    "def scrape_quotes(html_soup):\n",
    "    for quote in html_soup.select('div.quote'):\n",
    "        quote_text = quote.find(class_='text').get_text(strip=True)\n",
    "        quote_author = quote.find(class_='author').get_text(strip=True)\n",
    "        #quote_author_url = quote.find(class_='author').find_next_sibling('a').get('href')\n",
    "\n",
    "        quote_tag_urls = [clean_url(a.get('href')) for a in quote.find_all('a', class_=\"tag\")]\n",
    "\n",
    "\n",
    "        data.append( {\n",
    "            'quote_author' : quote_author,\n",
    "            'quote_text' : quote_text if quote_text else None,\n",
    "            'quote_tags' : quote_tag_urls\n",
    "        } )\n",
    "        \n"
   ]
  },
  {
   "cell_type": "code",
   "execution_count": 20,
   "metadata": {},
   "outputs": [
    {
     "name": "stdout",
     "output_type": "stream",
     "text": [
      "Now scraping page: http://quotes.toscrape.com/\n",
      "Now scraping page: http://quotes.toscrape.com/page/2/\n",
      "Now scraping page: http://quotes.toscrape.com/page/3/\n",
      "Now scraping page: http://quotes.toscrape.com/page/4/\n",
      "Now scraping page: http://quotes.toscrape.com/page/5/\n",
      "Now scraping page: http://quotes.toscrape.com/page/6/\n",
      "Now scraping page: http://quotes.toscrape.com/page/7/\n",
      "Now scraping page: http://quotes.toscrape.com/page/8/\n",
      "Now scraping page: http://quotes.toscrape.com/page/9/\n",
      "Now scraping page: http://quotes.toscrape.com/page/10/\n"
     ]
    }
   ],
   "source": [
    "\n",
    "url = base_url\n",
    "while True:                                          \n",
    "    print('Now scraping page:', url)\n",
    "    r = requests.get(url)\n",
    "    html_soup = BeautifulSoup(r.text, 'html.parser')\n",
    "    # Scrape the quotes\n",
    "    scrape_quotes(html_soup)\n",
    "    # Is there a next page?\n",
    "    next_a = html_soup.select('li.next > a')\n",
    "    if not next_a or not next_a[0].get('href'):\n",
    "        break\n",
    "    url = urljoin(url, next_a[0].get('href'))"
   ]
  },
  {
   "cell_type": "code",
   "execution_count": 23,
   "metadata": {},
   "outputs": [
    {
     "data": {
      "text/plain": [
       "170"
      ]
     },
     "execution_count": 23,
     "metadata": {},
     "output_type": "execute_result"
    }
   ],
   "source": [
    "len(data)"
   ]
  },
  {
   "cell_type": "markdown",
   "metadata": {},
   "source": [
    "## Scrape github stars"
   ]
  },
  {
   "cell_type": "code",
   "execution_count": 26,
   "metadata": {},
   "outputs": [],
   "source": [
    "import requests\n",
    "from bs4 import BeautifulSoup\n",
    "import re\n",
    "\n",
    "session = requests.Session()\n",
    "\n",
    "url = 'https://github.com/{}'\n",
    "username = 'google'\n",
    "\n",
    "r = session.get(url.format(username), params={'page': 1, 'tab': 'repositories'})\n",
    "html_soup = BeautifulSoup(r.text, 'html.parser')"
   ]
  },
  {
   "cell_type": "code",
   "execution_count": 36,
   "metadata": {},
   "outputs": [],
   "source": [
    "repos = html_soup.find(class_='repo-list').find_all('li')\n",
    "for repo in repos:\n",
    "    \n",
    "    name = repo.find('h3').find('a').get_text(strip=True)\n",
    "    # <span>\n",
    "    language = repo.find(attrs={'itemprop': 'programmingLanguage'})\n",
    "    language = language.get_text(strip=True) if language else 'unknown'\n",
    "    stars = repo.find('a', attrs={'href': re.compile('\\/stargazers')})\n",
    "    stars = int(stars.get_text(strip=True).replace(',', '')) if stars else 0\n"
   ]
  },
  {
   "cell_type": "markdown",
   "metadata": {},
   "source": [
    "## Scraping IMDB Ratings"
   ]
  },
  {
   "cell_type": "code",
   "execution_count": 39,
   "metadata": {},
   "outputs": [],
   "source": [
    "import requests\n",
    "from bs4 import BeautifulSoup\n",
    "\n",
    "url = 'http://www.imdb.com/title/tt0944947/episodes'\n",
    "\n",
    "episodes = []\n",
    "ratings = []"
   ]
  },
  {
   "cell_type": "code",
   "execution_count": 41,
   "metadata": {},
   "outputs": [
    {
     "name": "stdout",
     "output_type": "stream",
     "text": [
      "Episode: 1.1 -- rating: 9.1\n",
      "Episode: 1.2 -- rating: 8.8\n",
      "Episode: 1.3 -- rating: 8.7\n",
      "Episode: 1.4 -- rating: 8.8\n",
      "Episode: 1.5 -- rating: 9.1\n",
      "Episode: 1.6 -- rating: 9.2\n",
      "Episode: 1.7 -- rating: 9.3\n",
      "Episode: 1.8 -- rating: 9.0\n",
      "Episode: 1.9 -- rating: 9.6\n",
      "Episode: 1.10 -- rating: 9.5\n",
      "Episode: 2.1 -- rating: 8.8\n",
      "Episode: 2.2 -- rating: 8.6\n",
      "Episode: 2.3 -- rating: 8.9\n",
      "Episode: 2.4 -- rating: 8.8\n",
      "Episode: 2.5 -- rating: 8.8\n",
      "Episode: 2.6 -- rating: 9.1\n",
      "Episode: 2.7 -- rating: 8.9\n",
      "Episode: 2.8 -- rating: 8.8\n",
      "Episode: 2.9 -- rating: 9.7\n",
      "Episode: 2.10 -- rating: 9.4\n"
     ]
    }
   ],
   "source": [
    "for season in range(1, 3):\n",
    "    r = requests.get(url, params={'season': season})\n",
    "    soup = BeautifulSoup(r.text, 'html.parser')\n",
    "    listing = soup.find('div', class_=\"eplist\")\n",
    "    \n",
    "    for epnr, div in enumerate(listing.find_all('div', recursive=False)):\n",
    "        episode = \"{}.{}\".format(season, epnr + 1)\n",
    "        rating_el = div.find(class_='ipl-rating-star__rating')\n",
    "        rating = float(rating_el.get_text(strip=True))\n",
    "        print('Episode:', episode, '-- rating:', rating)\n",
    "        episodes.append(episode)\n",
    "        ratings.append(rating)"
   ]
  },
  {
   "cell_type": "code",
   "execution_count": null,
   "metadata": {},
   "outputs": [],
   "source": []
  }
 ],
 "metadata": {
  "kernelspec": {
   "display_name": "Python 3",
   "language": "python",
   "name": "python3"
  },
  "language_info": {
   "codemirror_mode": {
    "name": "ipython",
    "version": 3
   },
   "file_extension": ".py",
   "mimetype": "text/x-python",
   "name": "python",
   "nbconvert_exporter": "python",
   "pygments_lexer": "ipython3",
   "version": "3.7.1"
  }
 },
 "nbformat": 4,
 "nbformat_minor": 2
}
